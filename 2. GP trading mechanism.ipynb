{
 "cells": [
  {
   "cell_type": "code",
   "execution_count": 1164,
   "metadata": {},
   "outputs": [],
   "source": [
    "from config import *\n",
    "import warnings\n",
    "warnings.filterwarnings('ignore')"
   ]
  },
  {
   "cell_type": "markdown",
   "metadata": {},
   "source": [
    "# 0. Data"
   ]
  },
  {
   "cell_type": "code",
   "execution_count": 1165,
   "metadata": {},
   "outputs": [],
   "source": [
    "df_base = pd.read_csv('data/italian_stock_data_2004_2024.csv', index_col=0, header=[0,1])\n",
    "df_base = df_base.stack(level='Ticker').reset_index()\n",
    "df_base.fillna(method='ffill', inplace=True) \n",
    "df_base.Date = pd.to_datetime(df_base.Date)\n",
    "df_base.rename(columns={col:col.lower() for col in df_base.columns}, inplace=True)\n",
    "df_base.rename(columns={'adj close':'adj_close'}, inplace=True)\n",
    "df_base.ticker = df_base.ticker.str.replace('.MI','').str.replace('1','')"
   ]
  },
  {
   "cell_type": "markdown",
   "metadata": {},
   "source": [
    "Feature engineering"
   ]
  },
  {
   "cell_type": "code",
   "execution_count": 1166,
   "metadata": {},
   "outputs": [],
   "source": [
    "# Basic Features\n",
    "df_base['daily_return'] = df_base.groupby('ticker')['adj_close'].pct_change()\n",
    "df_base['price_range'] = df_base['high'] - df_base['low']\n",
    "\n",
    "# Moving Averages\n",
    "df_base['sma_20'] = df_base.groupby('ticker')['adj_close'].rolling(window=20).mean().reset_index(0, drop=True)\n",
    "df_base['sma_50'] = df_base.groupby('ticker')['adj_close'].rolling(window=50).mean().reset_index(0, drop=True)\n",
    "df_base['ema_20'] = df_base.groupby('ticker', group_keys=False)['adj_close'].apply(lambda x: x.ewm(span=20, adjust=False).mean())\n",
    "\n",
    "# Volatility Features\n",
    "df_base['volatility_20'] = df_base.groupby('ticker')['adj_close'].rolling(window=20).std().reset_index(0, drop=True)\n",
    "df_base['bollinger_upper'] = df_base['sma_20'] + 2 * df_base['volatility_20']\n",
    "df_base['bollinger_lower'] = df_base['sma_20'] - 2 * df_base['volatility_20']\n",
    "\n",
    "# Momentum Indicators\n",
    "delta = df_base.groupby('ticker')['adj_close'].diff()\n",
    "gain = (delta.where(delta > 0, 0)).rolling(window=14).mean()\n",
    "loss = (-delta.where(delta < 0, 0)).rolling(window=14).mean()\n",
    "df_base['rsi'] = 100 - (100 / (1 + gain / loss))\n",
    "df_base['macd'] = df_base.groupby('ticker', group_keys=False)['adj_close'].apply(\n",
    "    lambda x: x.ewm(span=12, adjust=False).mean() - x.ewm(span=26, adjust=False).mean()\n",
    ").reset_index(level=0, drop=True)\n",
    "df_base['signal'] = df_base['macd'].ewm(span=9, adjust=False).mean()\n",
    "\n",
    "# Volume Features\n",
    "df_base['volume_sma_20'] = df_base.groupby('ticker')['volume'].rolling(window=20).mean().reset_index(0, drop=True)\n",
    "#df_base['volume_spike'] = df_base['volume'] > 2 * df_base['volume_sma_20']\n",
    "\n",
    "# Custom Features for GP\n",
    "df_base['open_close_ratio'] = df_base['open'] / df_base['close']\n",
    "df_base['high_low_ratio'] = df_base['high'] / df_base['low']\n",
    "#df_base['day_of_week'] = pd.to_datetime(df_base['date']).dt.dayofweek\n",
    "df_base['cumulative_return'] = (1 + df_base['daily_return']).groupby(df_base['ticker']).cumprod()"
   ]
  },
  {
   "cell_type": "code",
   "execution_count": 1167,
   "metadata": {},
   "outputs": [],
   "source": [
    "df_base.sort_values(['ticker','date'], inplace=True)\n",
    "df_base.set_index('date', inplace=True)\n",
    "df_base['year'] = df_base.index.year\n",
    "df_base['month'] = df_base.index.to_period('M').to_timestamp()"
   ]
  },
  {
   "cell_type": "code",
   "execution_count": 1168,
   "metadata": {},
   "outputs": [],
   "source": [
    "features = ['adj_close', 'close', 'high', 'low', 'open', 'volume',\n",
    "       'daily_return', 'price_range', 'sma_20', 'sma_50', 'ema_20',\n",
    "       'volatility_20', 'bollinger_upper', 'bollinger_lower', 'rsi', 'macd',\n",
    "       'signal', 'volume_sma_20', 'open_close_ratio',\n",
    "       'high_low_ratio', 'cumulative_return']"
   ]
  },
  {
   "cell_type": "code",
   "execution_count": 1169,
   "metadata": {},
   "outputs": [],
   "source": [
    "def standardize_features(group_df):\n",
    "    for feature in features:\n",
    "        group_df[feature] = (\n",
    "            group_df[feature] - group_df[feature].mean()\n",
    "        ) / group_df[feature].std()\n",
    "    return group_df"
   ]
  },
  {
   "cell_type": "code",
   "execution_count": 1170,
   "metadata": {},
   "outputs": [
    {
     "data": {
      "text/html": [
       "<div>\n",
       "<style scoped>\n",
       "    .dataframe tbody tr th:only-of-type {\n",
       "        vertical-align: middle;\n",
       "    }\n",
       "\n",
       "    .dataframe tbody tr th {\n",
       "        vertical-align: top;\n",
       "    }\n",
       "\n",
       "    .dataframe thead th {\n",
       "        text-align: right;\n",
       "    }\n",
       "</style>\n",
       "<table border=\"1\" class=\"dataframe\">\n",
       "  <thead>\n",
       "    <tr style=\"text-align: right;\">\n",
       "      <th>Price</th>\n",
       "      <th>ticker</th>\n",
       "      <th>adj_close</th>\n",
       "      <th>close</th>\n",
       "      <th>high</th>\n",
       "      <th>low</th>\n",
       "      <th>open</th>\n",
       "      <th>volume</th>\n",
       "      <th>daily_return</th>\n",
       "      <th>price_range</th>\n",
       "      <th>sma_20</th>\n",
       "      <th>...</th>\n",
       "      <th>rsi</th>\n",
       "      <th>macd</th>\n",
       "      <th>signal</th>\n",
       "      <th>volume_sma_20</th>\n",
       "      <th>open_close_ratio</th>\n",
       "      <th>high_low_ratio</th>\n",
       "      <th>cumulative_return</th>\n",
       "      <th>year</th>\n",
       "      <th>month</th>\n",
       "      <th>adj_close_orig</th>\n",
       "    </tr>\n",
       "    <tr>\n",
       "      <th>date</th>\n",
       "      <th></th>\n",
       "      <th></th>\n",
       "      <th></th>\n",
       "      <th></th>\n",
       "      <th></th>\n",
       "      <th></th>\n",
       "      <th></th>\n",
       "      <th></th>\n",
       "      <th></th>\n",
       "      <th></th>\n",
       "      <th></th>\n",
       "      <th></th>\n",
       "      <th></th>\n",
       "      <th></th>\n",
       "      <th></th>\n",
       "      <th></th>\n",
       "      <th></th>\n",
       "      <th></th>\n",
       "      <th></th>\n",
       "      <th></th>\n",
       "      <th></th>\n",
       "    </tr>\n",
       "  </thead>\n",
       "  <tbody>\n",
       "    <tr>\n",
       "      <th>2004-03-10 00:00:00+00:00</th>\n",
       "      <td>A2A</td>\n",
       "      <td>-0.733183</td>\n",
       "      <td>0.271483</td>\n",
       "      <td>0.286225</td>\n",
       "      <td>0.285612</td>\n",
       "      <td>0.317797</td>\n",
       "      <td>-0.923188</td>\n",
       "      <td>-0.715508</td>\n",
       "      <td>0.136278</td>\n",
       "      <td>-0.750584</td>\n",
       "      <td>...</td>\n",
       "      <td>0.188346</td>\n",
       "      <td>0.288471</td>\n",
       "      <td>0.352079</td>\n",
       "      <td>-1.523189</td>\n",
       "      <td>0.883551</td>\n",
       "      <td>-0.146328</td>\n",
       "      <td>-0.733323</td>\n",
       "      <td>2004</td>\n",
       "      <td>2004-03-01</td>\n",
       "      <td>0.598171</td>\n",
       "    </tr>\n",
       "    <tr>\n",
       "      <th>2004-03-11 00:00:00+00:00</th>\n",
       "      <td>A2A</td>\n",
       "      <td>-0.771611</td>\n",
       "      <td>0.204841</td>\n",
       "      <td>0.238975</td>\n",
       "      <td>0.208812</td>\n",
       "      <td>0.270181</td>\n",
       "      <td>-0.793142</td>\n",
       "      <td>-1.251627</td>\n",
       "      <td>0.897880</td>\n",
       "      <td>-0.750861</td>\n",
       "      <td>...</td>\n",
       "      <td>-0.668306</td>\n",
       "      <td>0.192870</td>\n",
       "      <td>0.392050</td>\n",
       "      <td>-1.496860</td>\n",
       "      <td>1.285478</td>\n",
       "      <td>0.558908</td>\n",
       "      <td>-0.771749</td>\n",
       "      <td>2004</td>\n",
       "      <td>2004-03-01</td>\n",
       "      <td>0.584750</td>\n",
       "    </tr>\n",
       "    <tr>\n",
       "      <th>2004-03-12 00:00:00+00:00</th>\n",
       "      <td>A2A</td>\n",
       "      <td>-0.782589</td>\n",
       "      <td>0.185800</td>\n",
       "      <td>0.182274</td>\n",
       "      <td>0.132012</td>\n",
       "      <td>0.174950</td>\n",
       "      <td>-0.889592</td>\n",
       "      <td>-0.380966</td>\n",
       "      <td>1.405619</td>\n",
       "      <td>-0.750861</td>\n",
       "      <td>...</td>\n",
       "      <td>-1.413255</td>\n",
       "      <td>0.097713</td>\n",
       "      <td>0.383032</td>\n",
       "      <td>-1.473887</td>\n",
       "      <td>-0.238113</td>\n",
       "      <td>1.074767</td>\n",
       "      <td>-0.782728</td>\n",
       "      <td>2004</td>\n",
       "      <td>2004-03-01</td>\n",
       "      <td>0.580916</td>\n",
       "    </tr>\n",
       "    <tr>\n",
       "      <th>2004-03-15 00:00:00+00:00</th>\n",
       "      <td>A2A</td>\n",
       "      <td>-0.804548</td>\n",
       "      <td>0.147719</td>\n",
       "      <td>0.172824</td>\n",
       "      <td>0.160812</td>\n",
       "      <td>0.174950</td>\n",
       "      <td>-0.985167</td>\n",
       "      <td>-0.745276</td>\n",
       "      <td>0.390142</td>\n",
       "      <td>-0.752246</td>\n",
       "      <td>...</td>\n",
       "      <td>-1.375669</td>\n",
       "      <td>-0.012989</td>\n",
       "      <td>0.351354</td>\n",
       "      <td>-1.457927</td>\n",
       "      <td>0.535766</td>\n",
       "      <td>0.145312</td>\n",
       "      <td>-0.804686</td>\n",
       "      <td>2004</td>\n",
       "      <td>2004-03-01</td>\n",
       "      <td>0.573247</td>\n",
       "    </tr>\n",
       "    <tr>\n",
       "      <th>2004-03-16 00:00:00+00:00</th>\n",
       "      <td>A2A</td>\n",
       "      <td>-0.816625</td>\n",
       "      <td>0.126774</td>\n",
       "      <td>0.133134</td>\n",
       "      <td>0.135852</td>\n",
       "      <td>0.119716</td>\n",
       "      <td>-1.017320</td>\n",
       "      <td>-0.424880</td>\n",
       "      <td>-0.016050</td>\n",
       "      <td>-0.754240</td>\n",
       "      <td>...</td>\n",
       "      <td>-1.413255</td>\n",
       "      <td>-0.119331</td>\n",
       "      <td>0.160064</td>\n",
       "      <td>-1.446432</td>\n",
       "      <td>-0.163896</td>\n",
       "      <td>-0.202684</td>\n",
       "      <td>-0.816763</td>\n",
       "      <td>2004</td>\n",
       "      <td>2004-03-01</td>\n",
       "      <td>0.569029</td>\n",
       "    </tr>\n",
       "    <tr>\n",
       "      <th>...</th>\n",
       "      <td>...</td>\n",
       "      <td>...</td>\n",
       "      <td>...</td>\n",
       "      <td>...</td>\n",
       "      <td>...</td>\n",
       "      <td>...</td>\n",
       "      <td>...</td>\n",
       "      <td>...</td>\n",
       "      <td>...</td>\n",
       "      <td>...</td>\n",
       "      <td>...</td>\n",
       "      <td>...</td>\n",
       "      <td>...</td>\n",
       "      <td>...</td>\n",
       "      <td>...</td>\n",
       "      <td>...</td>\n",
       "      <td>...</td>\n",
       "      <td>...</td>\n",
       "      <td>...</td>\n",
       "      <td>...</td>\n",
       "      <td>...</td>\n",
       "    </tr>\n",
       "    <tr>\n",
       "      <th>2023-12-21 00:00:00+00:00</th>\n",
       "      <td>UCG</td>\n",
       "      <td>-0.375302</td>\n",
       "      <td>-0.525852</td>\n",
       "      <td>-0.531877</td>\n",
       "      <td>-0.521731</td>\n",
       "      <td>-0.528314</td>\n",
       "      <td>-0.840307</td>\n",
       "      <td>-0.015819</td>\n",
       "      <td>-0.701834</td>\n",
       "      <td>-0.360223</td>\n",
       "      <td>...</td>\n",
       "      <td>0.441928</td>\n",
       "      <td>0.037390</td>\n",
       "      <td>0.474876</td>\n",
       "      <td>-0.204950</td>\n",
       "      <td>-0.212031</td>\n",
       "      <td>-0.808740</td>\n",
       "      <td>-0.375121</td>\n",
       "      <td>2023</td>\n",
       "      <td>2023-12-01</td>\n",
       "      <td>22.571358</td>\n",
       "    </tr>\n",
       "    <tr>\n",
       "      <th>2023-12-22 00:00:00+00:00</th>\n",
       "      <td>UCG</td>\n",
       "      <td>-0.372973</td>\n",
       "      <td>-0.524343</td>\n",
       "      <td>-0.532532</td>\n",
       "      <td>-0.520210</td>\n",
       "      <td>-0.525863</td>\n",
       "      <td>-0.912924</td>\n",
       "      <td>0.095814</td>\n",
       "      <td>-0.783210</td>\n",
       "      <td>-0.361243</td>\n",
       "      <td>...</td>\n",
       "      <td>0.606483</td>\n",
       "      <td>0.031644</td>\n",
       "      <td>0.488487</td>\n",
       "      <td>-0.222503</td>\n",
       "      <td>-0.129531</td>\n",
       "      <td>-1.006864</td>\n",
       "      <td>-0.372791</td>\n",
       "      <td>2023</td>\n",
       "      <td>2023-12-01</td>\n",
       "      <td>22.645544</td>\n",
       "    </tr>\n",
       "    <tr>\n",
       "      <th>2023-12-27 00:00:00+00:00</th>\n",
       "      <td>UCG</td>\n",
       "      <td>-0.372099</td>\n",
       "      <td>-0.523777</td>\n",
       "      <td>-0.529819</td>\n",
       "      <td>-0.519164</td>\n",
       "      <td>-0.524261</td>\n",
       "      <td>-0.958765</td>\n",
       "      <td>0.030017</td>\n",
       "      <td>-0.719524</td>\n",
       "      <td>-0.361745</td>\n",
       "      <td>...</td>\n",
       "      <td>0.974695</td>\n",
       "      <td>0.029707</td>\n",
       "      <td>0.500576</td>\n",
       "      <td>-0.249726</td>\n",
       "      <td>-0.039342</td>\n",
       "      <td>-0.854408</td>\n",
       "      <td>-0.371918</td>\n",
       "      <td>2023</td>\n",
       "      <td>2023-12-01</td>\n",
       "      <td>22.673365</td>\n",
       "    </tr>\n",
       "    <tr>\n",
       "      <th>2023-12-28 00:00:00+00:00</th>\n",
       "      <td>UCG</td>\n",
       "      <td>-0.373846</td>\n",
       "      <td>-0.524909</td>\n",
       "      <td>-0.530661</td>\n",
       "      <td>-0.517262</td>\n",
       "      <td>-0.523696</td>\n",
       "      <td>-1.004777</td>\n",
       "      <td>-0.087706</td>\n",
       "      <td>-0.822129</td>\n",
       "      <td>-0.362277</td>\n",
       "      <td>...</td>\n",
       "      <td>-1.108310</td>\n",
       "      <td>0.023926</td>\n",
       "      <td>0.493242</td>\n",
       "      <td>-0.277053</td>\n",
       "      <td>0.108533</td>\n",
       "      <td>-1.102423</td>\n",
       "      <td>-0.373665</td>\n",
       "      <td>2023</td>\n",
       "      <td>2023-12-01</td>\n",
       "      <td>22.617723</td>\n",
       "    </tr>\n",
       "    <tr>\n",
       "      <th>2023-12-29 00:00:00+00:00</th>\n",
       "      <td>UCG</td>\n",
       "      <td>-0.368750</td>\n",
       "      <td>-0.521608</td>\n",
       "      <td>-0.528789</td>\n",
       "      <td>-0.516786</td>\n",
       "      <td>-0.524638</td>\n",
       "      <td>-0.880524</td>\n",
       "      <td>0.220114</td>\n",
       "      <td>-0.769058</td>\n",
       "      <td>-0.363384</td>\n",
       "      <td>...</td>\n",
       "      <td>0.268315</td>\n",
       "      <td>0.033089</td>\n",
       "      <td>0.486624</td>\n",
       "      <td>-0.313214</td>\n",
       "      <td>-0.259595</td>\n",
       "      <td>-0.975626</td>\n",
       "      <td>-0.368569</td>\n",
       "      <td>2023</td>\n",
       "      <td>2023-12-01</td>\n",
       "      <td>22.780006</td>\n",
       "    </tr>\n",
       "  </tbody>\n",
       "</table>\n",
       "<p>60413 rows × 25 columns</p>\n",
       "</div>"
      ],
      "text/plain": [
       "Price                     ticker  adj_close     close      high       low  \\\n",
       "date                                                                        \n",
       "2004-03-10 00:00:00+00:00    A2A  -0.733183  0.271483  0.286225  0.285612   \n",
       "2004-03-11 00:00:00+00:00    A2A  -0.771611  0.204841  0.238975  0.208812   \n",
       "2004-03-12 00:00:00+00:00    A2A  -0.782589  0.185800  0.182274  0.132012   \n",
       "2004-03-15 00:00:00+00:00    A2A  -0.804548  0.147719  0.172824  0.160812   \n",
       "2004-03-16 00:00:00+00:00    A2A  -0.816625  0.126774  0.133134  0.135852   \n",
       "...                          ...        ...       ...       ...       ...   \n",
       "2023-12-21 00:00:00+00:00    UCG  -0.375302 -0.525852 -0.531877 -0.521731   \n",
       "2023-12-22 00:00:00+00:00    UCG  -0.372973 -0.524343 -0.532532 -0.520210   \n",
       "2023-12-27 00:00:00+00:00    UCG  -0.372099 -0.523777 -0.529819 -0.519164   \n",
       "2023-12-28 00:00:00+00:00    UCG  -0.373846 -0.524909 -0.530661 -0.517262   \n",
       "2023-12-29 00:00:00+00:00    UCG  -0.368750 -0.521608 -0.528789 -0.516786   \n",
       "\n",
       "Price                          open    volume  daily_return  price_range  \\\n",
       "date                                                                       \n",
       "2004-03-10 00:00:00+00:00  0.317797 -0.923188     -0.715508     0.136278   \n",
       "2004-03-11 00:00:00+00:00  0.270181 -0.793142     -1.251627     0.897880   \n",
       "2004-03-12 00:00:00+00:00  0.174950 -0.889592     -0.380966     1.405619   \n",
       "2004-03-15 00:00:00+00:00  0.174950 -0.985167     -0.745276     0.390142   \n",
       "2004-03-16 00:00:00+00:00  0.119716 -1.017320     -0.424880    -0.016050   \n",
       "...                             ...       ...           ...          ...   \n",
       "2023-12-21 00:00:00+00:00 -0.528314 -0.840307     -0.015819    -0.701834   \n",
       "2023-12-22 00:00:00+00:00 -0.525863 -0.912924      0.095814    -0.783210   \n",
       "2023-12-27 00:00:00+00:00 -0.524261 -0.958765      0.030017    -0.719524   \n",
       "2023-12-28 00:00:00+00:00 -0.523696 -1.004777     -0.087706    -0.822129   \n",
       "2023-12-29 00:00:00+00:00 -0.524638 -0.880524      0.220114    -0.769058   \n",
       "\n",
       "Price                        sma_20  ...       rsi      macd    signal  \\\n",
       "date                                 ...                                 \n",
       "2004-03-10 00:00:00+00:00 -0.750584  ...  0.188346  0.288471  0.352079   \n",
       "2004-03-11 00:00:00+00:00 -0.750861  ... -0.668306  0.192870  0.392050   \n",
       "2004-03-12 00:00:00+00:00 -0.750861  ... -1.413255  0.097713  0.383032   \n",
       "2004-03-15 00:00:00+00:00 -0.752246  ... -1.375669 -0.012989  0.351354   \n",
       "2004-03-16 00:00:00+00:00 -0.754240  ... -1.413255 -0.119331  0.160064   \n",
       "...                             ...  ...       ...       ...       ...   \n",
       "2023-12-21 00:00:00+00:00 -0.360223  ...  0.441928  0.037390  0.474876   \n",
       "2023-12-22 00:00:00+00:00 -0.361243  ...  0.606483  0.031644  0.488487   \n",
       "2023-12-27 00:00:00+00:00 -0.361745  ...  0.974695  0.029707  0.500576   \n",
       "2023-12-28 00:00:00+00:00 -0.362277  ... -1.108310  0.023926  0.493242   \n",
       "2023-12-29 00:00:00+00:00 -0.363384  ...  0.268315  0.033089  0.486624   \n",
       "\n",
       "Price                      volume_sma_20  open_close_ratio  high_low_ratio  \\\n",
       "date                                                                         \n",
       "2004-03-10 00:00:00+00:00      -1.523189          0.883551       -0.146328   \n",
       "2004-03-11 00:00:00+00:00      -1.496860          1.285478        0.558908   \n",
       "2004-03-12 00:00:00+00:00      -1.473887         -0.238113        1.074767   \n",
       "2004-03-15 00:00:00+00:00      -1.457927          0.535766        0.145312   \n",
       "2004-03-16 00:00:00+00:00      -1.446432         -0.163896       -0.202684   \n",
       "...                                  ...               ...             ...   \n",
       "2023-12-21 00:00:00+00:00      -0.204950         -0.212031       -0.808740   \n",
       "2023-12-22 00:00:00+00:00      -0.222503         -0.129531       -1.006864   \n",
       "2023-12-27 00:00:00+00:00      -0.249726         -0.039342       -0.854408   \n",
       "2023-12-28 00:00:00+00:00      -0.277053          0.108533       -1.102423   \n",
       "2023-12-29 00:00:00+00:00      -0.313214         -0.259595       -0.975626   \n",
       "\n",
       "Price                      cumulative_return  year      month  adj_close_orig  \n",
       "date                                                                           \n",
       "2004-03-10 00:00:00+00:00          -0.733323  2004 2004-03-01        0.598171  \n",
       "2004-03-11 00:00:00+00:00          -0.771749  2004 2004-03-01        0.584750  \n",
       "2004-03-12 00:00:00+00:00          -0.782728  2004 2004-03-01        0.580916  \n",
       "2004-03-15 00:00:00+00:00          -0.804686  2004 2004-03-01        0.573247  \n",
       "2004-03-16 00:00:00+00:00          -0.816763  2004 2004-03-01        0.569029  \n",
       "...                                      ...   ...        ...             ...  \n",
       "2023-12-21 00:00:00+00:00          -0.375121  2023 2023-12-01       22.571358  \n",
       "2023-12-22 00:00:00+00:00          -0.372791  2023 2023-12-01       22.645544  \n",
       "2023-12-27 00:00:00+00:00          -0.371918  2023 2023-12-01       22.673365  \n",
       "2023-12-28 00:00:00+00:00          -0.373665  2023 2023-12-01       22.617723  \n",
       "2023-12-29 00:00:00+00:00          -0.368569  2023 2023-12-01       22.780006  \n",
       "\n",
       "[60413 rows x 25 columns]"
      ]
     },
     "execution_count": 1170,
     "metadata": {},
     "output_type": "execute_result"
    }
   ],
   "source": [
    "df = df_base.groupby('ticker', group_keys=False).apply(standardize_features)\n",
    "df['adj_close_orig'] = df_base['adj_close']\n",
    "df = df.dropna()\n",
    "df = df[~df.ticker.isin(['LDO','MONC','PIRC','PRY','PST'])] # these stocks appear later in the data, we want to start running the algorithm from 2004\n",
    "df"
   ]
  },
  {
   "cell_type": "code",
   "execution_count": 1171,
   "metadata": {},
   "outputs": [],
   "source": [
    "ticker_symbols = df.ticker.unique()"
   ]
  },
  {
   "cell_type": "markdown",
   "metadata": {},
   "source": [
    "# 1. Portfolio selection using GP"
   ]
  },
  {
   "cell_type": "markdown",
   "metadata": {},
   "source": [
    "## Baseline: Markowitz"
   ]
  },
  {
   "cell_type": "code",
   "execution_count": 1172,
   "metadata": {},
   "outputs": [],
   "source": [
    "def create_portfolio_markowitz_wrapper(df_reference):\n",
    "    df_mark =  df_reference.pivot(columns='ticker', values='adj_close')\n",
    "    num_stocks = len(df_mark.columns)\n",
    "    avg_returns = np.array([np.mean(df_mark[col]) for col in df_mark.columns]).reshape(num_stocks,1)\n",
    "    cov_matrix = np.matrix(df_mark.cov())\n",
    "    optimal_weights_markowitz, _ = markowitz_solution(num_stocks,\n",
    "                                                        avg_returns,\n",
    "                                                        cov_matrix,\n",
    "                                                        risk_aversion=0.5,\n",
    "                                                        short_selling=False)\n",
    "    return optimal_weights_markowitz.reshape((12,))"
   ]
  },
  {
   "cell_type": "markdown",
   "metadata": {},
   "source": [
    "## Genetic programming"
   ]
  },
  {
   "cell_type": "code",
   "execution_count": 1173,
   "metadata": {},
   "outputs": [],
   "source": [
    "# Parameters for genetic programming\n",
    "POPULATION_SIZE = 10\n",
    "GENERATIONS = 20\n",
    "TOURNAMENT_SIZE = 3\n",
    "MUTATION_RATE = 0.1"
   ]
  },
  {
   "cell_type": "code",
   "execution_count": 1174,
   "metadata": {},
   "outputs": [],
   "source": [
    "def generate_random_strategy():\n",
    "    \"\"\"Generate a random strategy as a simple decision rule.\"\"\"\n",
    "    return {\n",
    "        \"threshold\": np.random.normal(loc=0, scale=1), # all features have been standardized\n",
    "        \"feature\": random.choice(features),\n",
    "        \"type\": random.choice([\"momentum\", \"contrarian\"]),\n",
    "    }"
   ]
  },
  {
   "cell_type": "code",
   "execution_count": 1175,
   "metadata": {},
   "outputs": [
    {
     "data": {
      "text/plain": [
       "1"
      ]
     },
     "execution_count": 1175,
     "metadata": {},
     "output_type": "execute_result"
    }
   ],
   "source": [
    "x=np.array([1,1,1])\n",
    "min(x)"
   ]
  },
  {
   "cell_type": "code",
   "execution_count": 1176,
   "metadata": {},
   "outputs": [],
   "source": [
    "def create_portfolio(strategy, df_reference):\n",
    "    buy_intensities = []\n",
    "    for ticker in ticker_symbols:\n",
    "        if strategy[\"type\"] == \"momentum\":\n",
    "            buy_intensities.append(df_reference[df_reference.ticker==ticker][strategy[\"feature\"]].iloc[0] - strategy[\"threshold\"])\n",
    "        elif strategy[\"type\"] == \"contrarian\":\n",
    "            buy_intensities.append(strategy[\"threshold\"] - df_reference[df_reference.ticker==ticker][strategy[\"feature\"]].iloc[0])\n",
    "    buy_intensities_rescaled = np.array(buy_intensities) + abs(min(np.array(buy_intensities))) * (min(np.array(buy_intensities)) < 0) # ensure all elements are above 0, no short selling\n",
    "    portfolio_weights = np.array(buy_intensities_rescaled) / sum(buy_intensities_rescaled)\n",
    "    return portfolio_weights"
   ]
  },
  {
   "cell_type": "code",
   "execution_count": 1177,
   "metadata": {},
   "outputs": [],
   "source": [
    "def evaluate_portfolio(portfolio_weights, df_reference):\n",
    "    portfolio_value = np.dot(portfolio_weights,df_reference['adj_close_orig'])\n",
    "    return portfolio_value"
   ]
  },
  {
   "cell_type": "markdown",
   "metadata": {},
   "source": [
    "### GP operators"
   ]
  },
  {
   "cell_type": "code",
   "execution_count": 1178,
   "metadata": {},
   "outputs": [],
   "source": [
    "def mutate_strategy(strategy):\n",
    "    \"\"\"Randomly modify the strategy to introduce variation.\"\"\"\n",
    "    if random.random() < MUTATION_RATE:\n",
    "        strategy[\"threshold\"] += random.uniform(-0.5, 0.5)\n",
    "    if random.random() < MUTATION_RATE:\n",
    "        strategy[\"feature\"] = random.choice(features)\n",
    "    if random.random() < MUTATION_RATE:\n",
    "        strategy[\"type\"] = \"momentum\" if strategy[\"type\"] == \"contrarian\" else \"contrarian\"\n",
    "    return strategy"
   ]
  },
  {
   "cell_type": "code",
   "execution_count": 1179,
   "metadata": {},
   "outputs": [],
   "source": [
    "def crossover_strategy(parent1, parent2):\n",
    "    \"\"\"Combine two parent strategies to create an offspring.\"\"\"\n",
    "    return {\n",
    "        \"threshold\": random.choice([parent1[\"threshold\"], parent2[\"threshold\"]]),\n",
    "        \"feature\": random.choice([parent1[\"feature\"], parent2[\"feature\"]]),\n",
    "        \"type\": random.choice([parent1[\"type\"], parent2[\"type\"]]),\n",
    "    }"
   ]
  },
  {
   "cell_type": "code",
   "execution_count": 1180,
   "metadata": {},
   "outputs": [],
   "source": [
    "def select_parent(population, fitnesses):\n",
    "    \"\"\"Select a parent using tournament selection.\"\"\"\n",
    "    tournament = random.sample(list(zip(population, fitnesses)), TOURNAMENT_SIZE)\n",
    "    return max(tournament, key=lambda x: x[1])[0]"
   ]
  },
  {
   "cell_type": "markdown",
   "metadata": {},
   "source": [
    "### GP loop"
   ]
  },
  {
   "cell_type": "code",
   "execution_count": 1181,
   "metadata": {},
   "outputs": [],
   "source": [
    "population = [generate_random_strategy() for _ in range(POPULATION_SIZE)]\n",
    "\n",
    "for year in range(2005,2019):\n",
    "\n",
    "    # get prices - the prices of this year\n",
    "    df_train = df[df.year==year-1].groupby('ticker').mean()[features+['adj_close_orig']].reset_index()\n",
    "    df_test = df[df.year==year].groupby('ticker').mean()[features+['adj_close_orig']].reset_index()\n",
    "    portfolios = [create_portfolio(strategy, df_train) for strategy in population]\n",
    "\n",
    "    for generation in range(GENERATIONS):\n",
    "        # Evaluate fitness (portfolio value)\n",
    "        fitnesses = [evaluate_portfolio(portfolio, df_test) for portfolio in portfolios]\n",
    "\n",
    "        # Create new population\n",
    "        new_population = []\n",
    "        \n",
    "        for _ in range(POPULATION_SIZE):\n",
    "            \n",
    "            # Select parents\n",
    "            parent1 = select_parent(population, fitnesses)\n",
    "            parent2 = select_parent(population, fitnesses)\n",
    "\n",
    "            # Create offspring\n",
    "            offspring = crossover_strategy(parent1, parent2)\n",
    "            offspring = mutate_strategy(offspring)\n",
    "\n",
    "            new_population.append(offspring)\n",
    "\n",
    "        population = new_population"
   ]
  },
  {
   "cell_type": "markdown",
   "metadata": {},
   "source": [
    "# 2. Plots"
   ]
  },
  {
   "cell_type": "code",
   "execution_count": 1182,
   "metadata": {},
   "outputs": [],
   "source": [
    "df_train_final = df[df.year<=2018].groupby('ticker').mean()[features+['adj_close_orig']].reset_index()\n",
    "df_test_final = df[df.year>2018].groupby('ticker').mean()[features+['adj_close_orig']].reset_index()"
   ]
  },
  {
   "cell_type": "code",
   "execution_count": 1183,
   "metadata": {},
   "outputs": [],
   "source": [
    "final_population = []\n",
    "for strategy in population:\n",
    "    if strategy not in final_population:\n",
    "        final_population.append(strategy) # killing off duplicates"
   ]
  },
  {
   "cell_type": "code",
   "execution_count": 1184,
   "metadata": {},
   "outputs": [
    {
     "data": {
      "text/plain": [
       "[{'threshold': 1.6521318355644103, 'feature': 'close', 'type': 'contrarian'},\n",
       " {'threshold': 1.2695371422126742,\n",
       "  'feature': 'daily_return',\n",
       "  'type': 'contrarian'},\n",
       " {'threshold': 1.3370891449110855, 'feature': 'close', 'type': 'momentum'}]"
      ]
     },
     "execution_count": 1184,
     "metadata": {},
     "output_type": "execute_result"
    }
   ],
   "source": [
    "final_performances = [(strategy,evaluate_portfolio(create_portfolio(strategy, df_train_final), df_test_final)) for strategy in final_population]\n",
    "best_strategies = [tup[0] for tup in sorted(final_performances, key=lambda x: x[1], reverse=True)[:3]]\n",
    "best_strategies"
   ]
  },
  {
   "cell_type": "code",
   "execution_count": 1185,
   "metadata": {},
   "outputs": [],
   "source": [
    "def groupby_portfolio_month(month):\n",
    "    return df[df.month==month].groupby('ticker').mean()[features+['adj_close_orig']].reset_index()"
   ]
  },
  {
   "cell_type": "code",
   "execution_count": 1186,
   "metadata": {},
   "outputs": [],
   "source": [
    "months = df[df.year>=2019].sort_values('month').month.unique()"
   ]
  },
  {
   "cell_type": "code",
   "execution_count": 1187,
   "metadata": {},
   "outputs": [],
   "source": [
    "portfolio_values_markowitz = [evaluate_portfolio(\n",
    "                                create_portfolio_markowitz_wrapper(\n",
    "                                    df[df.month==previous_month]\n",
    "                                    ),\n",
    "                                groupby_portfolio_month(month)\n",
    "                                ) for previous_month,month in zip(months[:-1],months[1:])]\n",
    "portfolio_values_strategy_1 = [evaluate_portfolio(\n",
    "                                create_portfolio(\n",
    "                                    best_strategies[0],\n",
    "                                    groupby_portfolio_month(previous_month)\n",
    "                                    ),\n",
    "                                groupby_portfolio_month(month)\n",
    "                                ) for previous_month,month in zip(months[:-1],months[1:])]\n",
    "portfolio_values_strategy_2 = [evaluate_portfolio(\n",
    "                                create_portfolio(\n",
    "                                    best_strategies[1],\n",
    "                                    groupby_portfolio_month(previous_month)\n",
    "                                    ),\n",
    "                                groupby_portfolio_month(month)\n",
    "                                ) for previous_month,month in zip(months[:-1],months[1:])]\n",
    "portfolio_values_strategy_3 = [evaluate_portfolio(\n",
    "                                create_portfolio(\n",
    "                                    best_strategies[2],\n",
    "                                    groupby_portfolio_month(previous_month)\n",
    "                                    ),\n",
    "                                groupby_portfolio_month(month)\n",
    "                                ) for previous_month,month in zip(months[:-1],months[1:])]"
   ]
  },
  {
   "cell_type": "code",
   "execution_count": 1188,
   "metadata": {},
   "outputs": [
    {
     "data": {
      "text/plain": [
       "array([3.66972461e-15, 0.00000000e+00, 1.00000000e+00, 7.26045909e-16,\n",
       "       2.48610314e-15, 6.28556060e-16, 3.29500121e-15, 8.79151555e-16,\n",
       "       3.14665319e-15, 3.53166499e-15, 7.95197241e-15, 2.77546555e-15])"
      ]
     },
     "execution_count": 1188,
     "metadata": {},
     "output_type": "execute_result"
    }
   ],
   "source": [
    "create_portfolio_markowitz_wrapper(df[df.month=='2020-03-01'])"
   ]
  },
  {
   "cell_type": "code",
   "execution_count": 1189,
   "metadata": {},
   "outputs": [
    {
     "data": {
      "text/plain": [
       "array([0.07563063, 0.03838088, 0.02500278, 0.13181786, 0.09713061,\n",
       "       0.09581832, 0.10134133, 0.09718804, 0.12132426, 0.09538243,\n",
       "       0.02933738, 0.09164548])"
      ]
     },
     "execution_count": 1189,
     "metadata": {},
     "output_type": "execute_result"
    }
   ],
   "source": [
    "create_portfolio(best_strategies[0],\n",
    "                 groupby_portfolio_month('2020-03-01'))"
   ]
  },
  {
   "cell_type": "code",
   "execution_count": 1190,
   "metadata": {},
   "outputs": [
    {
     "data": {
      "image/png": "[encoded data removed]",
      "text/plain": [
       "<Figure size 640x480 with 1 Axes>"
      ]
     },
     "metadata": {},
     "output_type": "display_data"
    }
   ],
   "source": [
    "plt.plot(months[1:], \n",
    "         portfolio_values_markowitz,\n",
    "         label='Markowitz solution')\n",
    "plt.plot(months[1:], \n",
    "         portfolio_values_strategy_1,\n",
    "         label='1st best strategy')\n",
    "plt.plot(months[1:], \n",
    "         portfolio_values_strategy_2,\n",
    "         label='2nd best strategy')\n",
    "plt.plot(months[1:], \n",
    "         portfolio_values_strategy_3,\n",
    "         label='3rd best strategy')\n",
    "plt.legend()\n",
    "plt.savefig('out/GP/Portfolio evolution - Markowitz vs GP.png')"
   ]
  }
 ],
 "metadata": {
  "kernelspec": {
   "display_name": "pso_gp_proj",
   "language": "python",
   "name": "python3"
  },
  "language_info": {
   "codemirror_mode": {
    "name": "ipython",
    "version": 3
   },
   "file_extension": ".py",
   "mimetype": "text/x-python",
   "name": "python",
   "nbconvert_exporter": "python",
   "pygments_lexer": "ipython3",
   "version": "3.10.9"
  }
 },
 "nbformat": 4,
 "nbformat_minor": 2
}
